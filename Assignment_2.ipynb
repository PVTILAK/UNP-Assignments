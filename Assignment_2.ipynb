{
  "nbformat": 4,
  "nbformat_minor": 0,
  "metadata": {
    "colab": {
      "name": "Assignment-2.ipynb",
      "provenance": [],
      "collapsed_sections": []
    },
    "kernelspec": {
      "name": "python3",
      "display_name": "Python 3"
    },
    "language_info": {
      "name": "python"
    }
  },
  "cells": [
    {
      "cell_type": "markdown",
      "source": [
        "This is your assignment on conditional statement and looping"
      ],
      "metadata": {
        "id": "RWGPvgMGhZo5"
      }
    },
    {
      "cell_type": "markdown",
      "source": [
        "**Problem-1**<br>\n",
        "Write a small program to check a number is divisible by 7 or not"
      ],
      "metadata": {
        "id": "IKuXztS-h62c"
      }
    },
    {
      "cell_type": "code",
      "source": [
        "a=int(input(\"enter a number\"))\n",
        "if a%7==0:\n",
        "  print(\"given number is divisible by 7\")\n",
        "else:\n",
        "  print(\"given number is not divisible by 7\")  "
      ],
      "metadata": {
        "id": "tmLkoOqthcy-",
        "colab": {
          "base_uri": "https://localhost:8080/"
        },
        "outputId": "5ebc2dc3-c920-4d7e-a5b7-fea222a0be13"
      },
      "execution_count": 11,
      "outputs": [
        {
          "output_type": "stream",
          "name": "stdout",
          "text": [
            "enter a number349\n",
            "given number is not divisible by 7\n"
          ]
        }
      ]
    },
    {
      "cell_type": "markdown",
      "source": [
        "**Problem-2**<br>\n",
        "If a number is divisible by either 5 or 7, then we will call it a 'five-or-seven' number.<br> \n",
        "Write down a program to check if a number is 'five-or-seven' number or not."
      ],
      "metadata": {
        "id": "aKEBothyhZy8"
      }
    },
    {
      "cell_type": "code",
      "source": [
        "\n",
        "a=int(input(\"enter a number\"))\n",
        "if a%5==0 or a%7==0:\n",
        "  print(\"given number is divisible by 5 or 7 , we will call it a 'five-or-seven' number.\")\n",
        "else:\n",
        "  print(\"given number is not divisible by 5 or 7, we will not call it a 'five-or-seven' number.\")  \n"
      ],
      "metadata": {
        "id": "Vv-j3UR9hd1-",
        "colab": {
          "base_uri": "https://localhost:8080/"
        },
        "outputId": "2bb69400-9dc9-4161-f1f3-edee31c6641f"
      },
      "execution_count": 13,
      "outputs": [
        {
          "output_type": "stream",
          "name": "stdout",
          "text": [
            "enter a number655\n",
            "given number is divisible by 5 or 7 , we will call it a 'five-or-seven' number.\n"
          ]
        }
      ]
    },
    {
      "cell_type": "markdown",
      "source": [
        "**Problem-3**<br>\n",
        "Write a program to calculate the electricity bill (accept number of unit from user) according to the following criteria:<br>  \n",
        "Upto first 100 units Rs. 3 per unit.<br>\n",
        "Next 100 units Rs. 5 per unit.<br>\n",
        "Next 300 units Rs. 7 per unit.<br>\n",
        "Above that, for each unit exceeding 500, Rs. 10 per unit flat.<br>"
      ],
      "metadata": {
        "id": "Y9KxqFjxl2zt"
      }
    },
    {
      "cell_type": "code",
      "source": [
        "a=int(input(\"past electric unit\"))\n",
        "b=int(input(\"present electric unit\"))\n",
        "units=b-a\n",
        "print(\"units =\",units)\n",
        "if (units<=100):\n",
        "      first= units*3\n",
        "      print(first)\n",
        "elif (units>100 and units<=200):\n",
        "      sec=((100*3)+(units-100)*5)\n",
        "      print(sec)\n",
        "elif (units>200 and units<=500):\n",
        "      th=((100*3)+(100*5)+(units-200)*7)\n",
        "      print(th)\n",
        "elif (units>500):\n",
        "      n=((100*3)+(100*5)+(300*7)+(units-500)*10);\n",
        "      print(n)\n"
      ],
      "metadata": {
        "id": "f_xfH-gSnRvI",
        "colab": {
          "base_uri": "https://localhost:8080/"
        },
        "outputId": "70130a33-0bdd-4e3b-dbe9-e39eaff7fbdf"
      },
      "execution_count": 14,
      "outputs": [
        {
          "output_type": "stream",
          "name": "stdout",
          "text": [
            "past electric unit233\n",
            "present electric unit332\n",
            "units = 99\n",
            "297\n"
          ]
        }
      ]
    },
    {
      "cell_type": "markdown",
      "source": [
        "**Problem-4**<br>\n",
        "Find out sum of square of all the numbers upto 10, starting from 1"
      ],
      "metadata": {
        "id": "rLNw2lAwhZ8q"
      }
    },
    {
      "cell_type": "code",
      "source": [
        "n=10\n",
        "a=0\n",
        "for i in range (1,n+1):\n",
        "    a=a+(i**2)\n",
        "print(a)"
      ],
      "metadata": {
        "id": "8kgqZ_x-heuw",
        "colab": {
          "base_uri": "https://localhost:8080/"
        },
        "outputId": "b04c01b5-2eef-442f-f118-bcff54ba5adb"
      },
      "execution_count": 15,
      "outputs": [
        {
          "output_type": "stream",
          "name": "stdout",
          "text": [
            "385\n"
          ]
        }
      ]
    },
    {
      "cell_type": "markdown",
      "source": [
        "**Problem-5**<br>\n",
        "Find out sum of square of all the even numbers upto 10, starting from 1"
      ],
      "metadata": {
        "id": "Y-MCE0x9haiN"
      }
    },
    {
      "cell_type": "code",
      "source": [
        "a=0\n",
        "for i in range (1,5):\n",
        "    a=a+((2*i)**2)\n",
        "print(a)"
      ],
      "metadata": {
        "id": "Ki_-j4Dphfkd",
        "colab": {
          "base_uri": "https://localhost:8080/"
        },
        "outputId": "76344d23-3eb4-4cbc-c0e1-3fc3387558b1"
      },
      "execution_count": 16,
      "outputs": [
        {
          "output_type": "stream",
          "name": "stdout",
          "text": [
            "120\n"
          ]
        }
      ]
    },
    {
      "cell_type": "markdown",
      "source": [
        "**Problem-6**<br>\n",
        "Check a number is prime or not"
      ],
      "metadata": {
        "id": "Sxp-egxiha1L"
      }
    },
    {
      "cell_type": "code",
      "source": [
        "a=int(input('Enter a number:'))\n",
        "n=0\n",
        "for i in range(2,a):\n",
        "    if(a%i==0):\n",
        "      n=1\n",
        "if (a==0):\n",
        "    print(a,\"given no is a Prime Number\")\n",
        "else:\n",
        "    print(a,\" given no is not a Prime Number'\")"
      ],
      "metadata": {
        "id": "IoGNy2aMhgop",
        "colab": {
          "base_uri": "https://localhost:8080/"
        },
        "outputId": "35e4622e-24ee-4c37-c948-da9954e30afb"
      },
      "execution_count": 17,
      "outputs": [
        {
          "output_type": "stream",
          "name": "stdout",
          "text": [
            "Enter a number:7\n",
            "7  given no is not a Prime Number'\n"
          ]
        }
      ]
    },
    {
      "cell_type": "markdown",
      "source": [
        "**Problem-7**<br>\n",
        "Print multiplication table upto 10 starting from 1"
      ],
      "metadata": {
        "id": "ntLKcA1hha44"
      }
    },
    {
      "cell_type": "code",
      "source": [
        "a=int(input('Enter a number:'))\n",
        "for i in range(1,11):\n",
        "    mul=a*i\n",
        "    print(a,'*',i,'=',mul)"
      ],
      "metadata": {
        "id": "U5LmrwFmhiE3",
        "colab": {
          "base_uri": "https://localhost:8080/"
        },
        "outputId": "e58c4a8f-eabe-4427-e5a5-249f4efb1279"
      },
      "execution_count": 18,
      "outputs": [
        {
          "output_type": "stream",
          "name": "stdout",
          "text": [
            "Enter a number:45\n",
            "45 * 1 = 45\n",
            "45 * 2 = 90\n",
            "45 * 3 = 135\n",
            "45 * 4 = 180\n",
            "45 * 5 = 225\n",
            "45 * 6 = 270\n",
            "45 * 7 = 315\n",
            "45 * 8 = 360\n",
            "45 * 9 = 405\n",
            "45 * 10 = 450\n"
          ]
        }
      ]
    },
    {
      "cell_type": "markdown",
      "source": [
        "**Problem-8**<br>\n",
        "Print the series of first n fibonacci numbers"
      ],
      "metadata": {
        "id": "09Fwyn_ZhbDY"
      }
    },
    {
      "cell_type": "code",
      "source": [
        "a=int(input('Enter a number'))\n",
        "f1=0\n",
        "f2=1\n",
        "print(f1)\n",
        "print(f2)\n",
        "for i in range(3,a+1):\n",
        "    f3=f1+f2\n",
        "    print(f3)\n",
        "    f1=f2\n",
        "    f2=f3"
      ],
      "metadata": {
        "id": "mo2otdwfhi3J",
        "colab": {
          "base_uri": "https://localhost:8080/"
        },
        "outputId": "540202d2-eff2-47d4-d87b-feaa5f3fe4ec"
      },
      "execution_count": 19,
      "outputs": [
        {
          "output_type": "stream",
          "name": "stdout",
          "text": [
            "Enter a number3\n",
            "0\n",
            "1\n",
            "1\n"
          ]
        }
      ]
    }
  ]
}